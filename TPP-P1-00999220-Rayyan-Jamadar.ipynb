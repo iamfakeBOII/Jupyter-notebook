{
 "cells": [
  {
   "cell_type": "markdown",
   "id": "7a88331b",
   "metadata": {},
   "source": [
    "# Rayyan J. Jupyter notebook showcase\n",
    "\n",
    "The whole point of this notebook is to track the learning progress of the various software development techneques that we are introduced to in SEng-265. First thing on the agenda after getting this notebook started was to learn a little bit about markdown and how it works. Being in the Mathematics and Computer Science program, learning markdown/LaTeX is essentially inevitable.\n",
    "Now to get rid of this plain steryotypical monotone backgroud I did have to install a custom theme using [do not click me! (sarcasm)](https://towardsdatascience.com/customize-your-jupyter-notebook-theme-in-2-lines-of-code-fc726cea1513)\n",
    "\n",
    "The whole idea of Jupyter notebook is honestly genius; a great way to show code but in a hyper organised method, where code can be run line-by-line and have asthetically pleasing markdown text documenting the code or the procedure of how it was being developed.\n",
    "\n",
    "An important yet lacking skill for most engineers is to be able to communicate what their ideas are and this is a great way to exponentially increase the readability and understanding of whatever needs to be said to a novice user/listener. \n",
    "\n",
    "To get a basic hold of markdown I used this intuitive guide found online [here](https://medium.com/analytics-vidhya/the-ultimate-markdown-guide-for-jupyter-notebook-d5e5abf728fd) that gives a basic understanding of it alongside HTML equivalent which most people are fisrt introudced with."
   ]
  },
  {
   "cell_type": "markdown",
   "id": "3e800e79",
   "metadata": {},
   "source": [
    "## Links and Equations\n",
    "\n",
    "Now let us play around with some markdown/LaTeX formatting\n",
    "\n",
    "Since we already used link insertion above (pretty similar to image insertion) let us see how we can inster an image into this notebook below;\n",
    "we use \"!\\[\\]()\" with the link of the respective image in the parenthesis, here's an example; \n",
    "![](https://images.pexels.com/photos/20150844/pexels-photo-20150844/free-photo-of-buddhist-temple-sakura-tree-nara-japan.jpeg)\n",
    "\n",
    "Now let us play around with some fancy math equations and see how that works;\n",
    "To start a formatting math equations we can sue \\$\\$ and end with the same pattern, and inside we use regular ***LaTeX*** commands, an example here is the Cauchy Inequality\n",
    "$$\\left( \\sum_{k=1}^n a_k b_k \\right)^2 \\leq \\left( \\sum_{k=1}^n a_k^2 \\right) \\left( \\sum_{k=1}^n b_k^2 \\right)$$\n",
    "\n",
    "Here is some cool LaTeX formatting that I used in my previous Mathematics courses;\n",
    "\n",
    "Firstly some Matrix row reductions used in M211\n",
    "\n",
    "$$\n",
    "\\left[ \\begin{array}{cccc|c}\n",
    "1 & -2 & 4 & -8 & -1 \\\\\n",
    "1 & -1 & 1 & -1 & 7 \\\\\n",
    "1 & 2 & 4 & 8 & -5 \\\\\n",
    "1 & 3 & 9 & -27 & -1\n",
    "\\end{array}\\right]\n",
    "\\xrightarrow[R_2-R_1]{R_3-R_1\\\\R_4-R_1}\n",
    "\\left[ \\begin{array}{cccc|c}\n",
    "1 & -2 & 4 & -8 & -1 \\\\\n",
    "0 & 1 & -3 & 7 & 8 \\\\\n",
    "0 & 4 & 0 & 16 & -4 \\\\\n",
    "0 & 5 & 5 & 35 & 0\n",
    "\\end{array}\\right]\n",
    "$$\n",
    "\n",
    "Some proof writing with vectors and matrices again;\n",
    "Adding the above two matrices to get $\\left[ \\begin{array} {c} \n",
    "x_1+y_1 \\\\\n",
    "x_2+y_2\n",
    "\\end{array}\\right]$,\n",
    "now using the definition of the set $Y$ we can write the equation out for the new matrix: \n",
    "$$(x_1+y_1){v_1}+(x_2+y_2){v_2}$$\n",
    "$$x_1{v_1}+y_1{v_1}+x_2{v_2}+y_2{v_2}$$\n",
    "After rearranging the terms we get :\n",
    "$$(x_1{v_1}+x_2{v_2})+(y_1{v_1}+y_2{v_2})$$\n",
    "\n",
    "Here's a way we can write symbols for Algeabric fields like Real's, Complex and Rationals or an arbitarary vector space;\n",
    "$\\mathbb{R}$ $\\mathbb{C}$ $\\mathbb{Q}$ $\\mathbb{V}$"
   ]
  },
  {
   "cell_type": "code",
   "execution_count": 5,
   "id": "4dc80567",
   "metadata": {},
   "outputs": [],
   "source": [
    "!jt -t gruvboxd"
   ]
  },
  {
   "cell_type": "markdown",
   "id": "7a02c205",
   "metadata": {},
   "source": [
    "The above command illustrates the grubvbox theme for python code block"
   ]
  },
  {
   "cell_type": "markdown",
   "id": "46cff277",
   "metadata": {},
   "source": [
    "## Unix and Bash\n",
    "\n",
    "Unix systems or even Linux systems have been around since the dawn of modern computing. Most people go about their days without even realizing the fact that our internet driven world runs on one core thing and that is unix systems like GNU/Linux or FreeBSD; every TV electronic system you can find around your house probably runs some form of Unix based system, hell even MacOS was initially developed on top of FreeBSD, android systems are eseentially linux systems. This just goes to show that the most used operation system in the grand scheme of things is indeed GNU/Linux.\n",
    "\n",
    "Bash scripting which is OS-independent is plenty useful to automate certain system specific tasks. Since I've been using Linux since basically highschool (My setup being Arch linux paired with dwm which is a C based window manager); using dwm which is quite barebones I use bash scripts to run a bunch of commands on startup that setup my status bar ![](https://i.gyazo.com/6389925c0a45b307f7125d7f283b00ad.png) using my script ![](https://i.gyazo.com/b136098c8d71a712b070a7af3d8ad71a.png)\n",
    "\n",
    "I have a couple more bash scripts for things like dual display setup for my laptop which I can run when I connect my monitor and it sets-up all my orientation and all preferences as desired; ![](https://i.gyazo.com/2a81dbcb63fd92a82fac07b5041c2813.png)\n",
    "\n",
    "These are things that most desktop-environments in *Unix* based systems automatically implement anyway so without even knowing it you could be using bash in your daily life!!"
   ]
  },
  {
   "cell_type": "markdown",
   "id": "7bd985e2",
   "metadata": {},
   "source": [
    "## C Programming\n",
    "\n",
    "My background in C before starting this course was minimal to say the least. I had the basic idea about the syntax and whatnot but no real programming. My method to learn new things is always to **do** something with it which creates a way for me to learn random things along the learning process and work on making the method more efficient as I go on my journey. C relative to modern programming languages like *Python* or *Java* is considered ***lower*** level. Most things like machine learning or web development have much more **accesible** languages which are used today like Python or Javascript along with other things due to extensive library sets. But the core *i.e* OS development is still rich in the C language. One really good application that comes to my mind which is written in C is **dwm** which is written by the wonderful folks at [](http://suckless.org/), their whole aim is to develop jargon-free, minimilstic daily software written in pure C avoiding unnecessary libraries and maintaining a low line count for max efficiency. All their software can be ran on BSD absed systems and GNU/Linux and is compilation based which is great. \n",
    "Doing the first assignment was not too challenging but running into errors like segmentation faults and memory errors were quite annoying after getting used to the interface of simpler languages like python and java in first year.\n",
    "\n",
    "Here is the dwm folder\n",
    "![](https://i.gyazo.com/8757457350cb4a8ee99a1ac0205b0743.png)\n",
    "\n",
    "We can then create diff files (also called patches) to apply to the dwm.c or config.h files which essentially look like as below;\n",
    "\n",
    "![](https://i.gyazo.com/cea0882eb5eeddfe5b88d669086f6eed.png)\n",
    "These diff files have two types of lines one with -- which essentially remove lines of code and ** which add lines of code, obviously these can be done manually but to keep track of updates which are added these are super helpful!\n",
    "\n",
    "Anyhting you want different? Well you can open up the *.c* file and change as you please. True software freedom is something all developers should strive for especially in a time where this very basic control has been taken away in most places (MS Software/Apple based software)."
   ]
  }
 ],
 "metadata": {
  "kernelspec": {
   "display_name": "Python 3 (ipykernel)",
   "language": "python",
   "name": "python3"
  },
  "language_info": {
   "codemirror_mode": {
    "name": "ipython",
    "version": 3
   },
   "file_extension": ".py",
   "mimetype": "text/x-python",
   "name": "python",
   "nbconvert_exporter": "python",
   "pygments_lexer": "ipython3",
   "version": "3.11.5"
  }
 },
 "nbformat": 4,
 "nbformat_minor": 5
}
